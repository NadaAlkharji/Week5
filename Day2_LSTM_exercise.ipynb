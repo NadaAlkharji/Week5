{
  "nbformat": 4,
  "nbformat_minor": 0,
  "metadata": {
    "colab": {
      "provenance": []
    },
    "kernelspec": {
      "name": "python3",
      "display_name": "Python 3"
    },
    "language_info": {
      "name": "python"
    }
  },
  "cells": [
    {
      "cell_type": "code",
      "source": [
        "from google.colab import drive\n",
        "drive.mount('/content/drive')"
      ],
      "metadata": {
        "colab": {
          "base_uri": "https://localhost:8080/"
        },
        "id": "AJuHhksQg6H2",
        "outputId": "6c86932f-107c-4d20-b127-324bcab1d658"
      },
      "execution_count": 50,
      "outputs": [
        {
          "output_type": "stream",
          "name": "stdout",
          "text": [
            "Drive already mounted at /content/drive; to attempt to forcibly remount, call drive.mount(\"/content/drive\", force_remount=True).\n"
          ]
        }
      ]
    },
    {
      "cell_type": "markdown",
      "source": [
        "# **LSTM Exercise**"
      ],
      "metadata": {
        "id": "DeDMU8rGJtM7"
      }
    },
    {
      "cell_type": "markdown",
      "source": [
        "## Import libraries"
      ],
      "metadata": {
        "id": "73pucHkDJoyN"
      }
    },
    {
      "cell_type": "code",
      "execution_count": 51,
      "metadata": {
        "id": "W3AjCzdQJmSK"
      },
      "outputs": [],
      "source": [
        "import numpy as np\n",
        "import matplotlib.pyplot as plt\n",
        "import pandas as pd\n",
        "import tensorflow as tf\n",
        "from tensorflow.keras.models import Sequential\n",
        "from tensorflow.keras.layers import Dense\n",
        "from tensorflow.keras.layers import LSTM\n",
        "from sklearn.preprocessing import MinMaxScaler\n",
        "from sklearn.metrics import mean_squared_error"
      ]
    },
    {
      "cell_type": "markdown",
      "source": [
        "### Random Seed"
      ],
      "metadata": {
        "id": "BgmlC7wQqtO8"
      }
    },
    {
      "cell_type": "code",
      "source": [
        "# fix random seed for reproducibility\n",
        "tf.random.set_seed(7)"
      ],
      "metadata": {
        "id": "QuwwSJ_Mq0t4"
      },
      "execution_count": 52,
      "outputs": []
    },
    {
      "cell_type": "markdown",
      "source": [
        "## load the dataset\n",
        "### Dataset path : 5- Time series forecasting/2-2- Time Series Forecasting (LSTM and GRU)\n",
        "/ LAB/Dataset/traffic.csv\n"
      ],
      "metadata": {
        "id": "91J8oMpJKYkO"
      }
    },
    {
      "cell_type": "code",
      "source": [
        "dataframe = pd.read_csv('/content/drive/MyDrive/Week5/Datasets/traffic.csv', usecols=[1], engine='python')\n",
        "dataset = dataframe.values\n",
        "dataset = dataset.astype('float32')"
      ],
      "metadata": {
        "id": "Cyx1SwgJJ8Y9"
      },
      "execution_count": 53,
      "outputs": []
    },
    {
      "cell_type": "markdown",
      "source": [
        "## Normalize the dataset"
      ],
      "metadata": {
        "id": "i7yyKGkVKi88"
      }
    },
    {
      "cell_type": "code",
      "source": [
        "scaler = MinMaxScaler(feature_range=(0, 1))\n",
        "dataset = scaler.fit_transform(dataset)"
      ],
      "metadata": {
        "id": "dacoPvqbKdpP"
      },
      "execution_count": 54,
      "outputs": []
    },
    {
      "cell_type": "markdown",
      "source": [
        "## split into train and test sets"
      ],
      "metadata": {
        "id": "GV-4d-zxKvJI"
      }
    },
    {
      "cell_type": "code",
      "source": [
        "train_size = int(len(dataset) * 0.67)\n",
        "test_size = len(dataset) - train_size\n",
        "train, test = dataset[0:train_size,:], dataset[train_size:len(dataset),:]\n",
        "print(len(train), len(test))"
      ],
      "metadata": {
        "id": "4K7bNBFiKr_j",
        "colab": {
          "base_uri": "https://localhost:8080/"
        },
        "outputId": "11129218-951c-4ce4-ebef-99604633151c"
      },
      "execution_count": 55,
      "outputs": [
        {
          "output_type": "stream",
          "name": "stdout",
          "text": [
            "32240 15880\n"
          ]
        }
      ]
    },
    {
      "cell_type": "markdown",
      "source": [
        "## convert an array of values into a dataset matrix"
      ],
      "metadata": {
        "id": "Qx0Sq9WLtUmw"
      }
    },
    {
      "cell_type": "code",
      "source": [
        "def create_dataset(dataset, look_back=1):\n",
        "    dataX, dataY = [], []\n",
        "    for i in range(len(dataset)-look_back-1):\n",
        "        a = dataset[i:(i+look_back), 0]  # Indent this line\n",
        "        dataX.append(a)\n",
        "        dataY.append(dataset[i + look_back, 0])\n",
        "    return np.array(dataX), np.array(dataY)"
      ],
      "metadata": {
        "id": "NTiMBsB0tb7g"
      },
      "execution_count": 56,
      "outputs": []
    },
    {
      "cell_type": "markdown",
      "source": [
        "## function to prepare the train and test datasets for modeling."
      ],
      "metadata": {
        "id": "bINRDHZYtf8R"
      }
    },
    {
      "cell_type": "code",
      "source": [
        "# reshape into X=t and Y=t+1\n",
        "look_back = 1\n",
        "trainX, trainY = create_dataset(train, look_back)\n",
        "testX, testY = create_dataset(test, look_back)"
      ],
      "metadata": {
        "id": "0GcI68N0thBd"
      },
      "execution_count": 57,
      "outputs": []
    },
    {
      "cell_type": "code",
      "source": [
        "# reshape input to be [samples, time steps, features]\n",
        "trainX = np.reshape(trainX, (trainX.shape[0], 1, trainX.shape[1]))\n",
        "testX = np.reshape(testX, (testX.shape[0], 1, testX.shape[1]))"
      ],
      "metadata": {
        "id": "kz73J_ALtjVC"
      },
      "execution_count": 58,
      "outputs": []
    },
    {
      "cell_type": "markdown",
      "source": [
        "## Fit the LSTM"
      ],
      "metadata": {
        "id": "Enlx1TQhLcp5"
      }
    },
    {
      "cell_type": "code",
      "source": [
        "model = Sequential()\n",
        "model.add(LSTM(4, input_shape=(1, look_back)))\n",
        "model.add(Dense(1))\n",
        "model.compile(loss='mean_squared_error', optimizer='adam')\n",
        "model.fit(trainX, trainY, epochs=50, batch_size=1, verbose=2)"
      ],
      "metadata": {
        "id": "tKTnFm3lLcIj",
        "colab": {
          "base_uri": "https://localhost:8080/"
        },
        "outputId": "545a45fe-f682-4a73-8427-855454831e35"
      },
      "execution_count": 59,
      "outputs": [
        {
          "output_type": "stream",
          "name": "stdout",
          "text": [
            "Epoch 1/50\n"
          ]
        },
        {
          "output_type": "stream",
          "name": "stderr",
          "text": [
            "/usr/local/lib/python3.10/dist-packages/keras/src/layers/rnn/rnn.py:204: UserWarning: Do not pass an `input_shape`/`input_dim` argument to a layer. When using Sequential models, prefer using an `Input(shape)` object as the first layer in the model instead.\n",
            "  super().__init__(**kwargs)\n"
          ]
        },
        {
          "output_type": "stream",
          "name": "stdout",
          "text": [
            "32238/32238 - 48s - 1ms/step - loss: 0.0012\n",
            "Epoch 2/50\n",
            "32238/32238 - 82s - 3ms/step - loss: 7.8321e-06\n",
            "Epoch 3/50\n",
            "32238/32238 - 81s - 3ms/step - loss: 7.8202e-06\n",
            "Epoch 4/50\n",
            "32238/32238 - 46s - 1ms/step - loss: 7.8723e-06\n",
            "Epoch 5/50\n",
            "32238/32238 - 46s - 1ms/step - loss: 7.7955e-06\n",
            "Epoch 6/50\n",
            "32238/32238 - 83s - 3ms/step - loss: 7.7868e-06\n",
            "Epoch 7/50\n",
            "32238/32238 - 82s - 3ms/step - loss: 7.7805e-06\n",
            "Epoch 8/50\n",
            "32238/32238 - 46s - 1ms/step - loss: 7.7762e-06\n",
            "Epoch 9/50\n",
            "32238/32238 - 82s - 3ms/step - loss: 7.7753e-06\n",
            "Epoch 10/50\n",
            "32238/32238 - 82s - 3ms/step - loss: 7.7711e-06\n",
            "Epoch 11/50\n",
            "32238/32238 - 46s - 1ms/step - loss: 7.7674e-06\n",
            "Epoch 12/50\n",
            "32238/32238 - 46s - 1ms/step - loss: 7.7635e-06\n",
            "Epoch 13/50\n",
            "32238/32238 - 83s - 3ms/step - loss: 7.7638e-06\n",
            "Epoch 14/50\n",
            "32238/32238 - 82s - 3ms/step - loss: 7.7602e-06\n",
            "Epoch 15/50\n",
            "32238/32238 - 82s - 3ms/step - loss: 7.7565e-06\n",
            "Epoch 16/50\n",
            "32238/32238 - 46s - 1ms/step - loss: 7.7737e-06\n",
            "Epoch 17/50\n",
            "32238/32238 - 81s - 3ms/step - loss: 7.7572e-06\n",
            "Epoch 18/50\n",
            "32238/32238 - 82s - 3ms/step - loss: 7.7560e-06\n",
            "Epoch 19/50\n",
            "32238/32238 - 45s - 1ms/step - loss: 7.7550e-06\n",
            "Epoch 20/50\n",
            "32238/32238 - 45s - 1ms/step - loss: 7.7554e-06\n",
            "Epoch 21/50\n",
            "32238/32238 - 47s - 1ms/step - loss: 7.7535e-06\n",
            "Epoch 22/50\n",
            "32238/32238 - 46s - 1ms/step - loss: 7.7514e-06\n",
            "Epoch 23/50\n",
            "32238/32238 - 46s - 1ms/step - loss: 7.7501e-06\n",
            "Epoch 24/50\n",
            "32238/32238 - 46s - 1ms/step - loss: 7.7475e-06\n",
            "Epoch 25/50\n",
            "32238/32238 - 82s - 3ms/step - loss: 7.7728e-06\n",
            "Epoch 26/50\n",
            "32238/32238 - 83s - 3ms/step - loss: 7.7467e-06\n",
            "Epoch 27/50\n",
            "32238/32238 - 47s - 1ms/step - loss: 7.7449e-06\n",
            "Epoch 28/50\n",
            "32238/32238 - 46s - 1ms/step - loss: 7.7431e-06\n",
            "Epoch 29/50\n",
            "32238/32238 - 46s - 1ms/step - loss: 7.7411e-06\n",
            "Epoch 30/50\n",
            "32238/32238 - 82s - 3ms/step - loss: 7.7392e-06\n",
            "Epoch 31/50\n",
            "32238/32238 - 46s - 1ms/step - loss: 7.7373e-06\n",
            "Epoch 32/50\n",
            "32238/32238 - 47s - 1ms/step - loss: 7.7354e-06\n",
            "Epoch 33/50\n",
            "32238/32238 - 46s - 1ms/step - loss: 7.7353e-06\n",
            "Epoch 34/50\n",
            "32238/32238 - 46s - 1ms/step - loss: 7.7334e-06\n",
            "Epoch 35/50\n",
            "32238/32238 - 46s - 1ms/step - loss: 7.7315e-06\n",
            "Epoch 36/50\n",
            "32238/32238 - 83s - 3ms/step - loss: 7.7296e-06\n",
            "Epoch 37/50\n",
            "32238/32238 - 47s - 1ms/step - loss: 7.7274e-06\n",
            "Epoch 38/50\n",
            "32238/32238 - 82s - 3ms/step - loss: 7.7255e-06\n",
            "Epoch 39/50\n",
            "32238/32238 - 82s - 3ms/step - loss: 7.7242e-06\n",
            "Epoch 40/50\n",
            "32238/32238 - 46s - 1ms/step - loss: 7.7221e-06\n",
            "Epoch 41/50\n",
            "32238/32238 - 81s - 3ms/step - loss: 7.7200e-06\n",
            "Epoch 42/50\n",
            "32238/32238 - 82s - 3ms/step - loss: 7.7188e-06\n",
            "Epoch 43/50\n",
            "32238/32238 - 46s - 1ms/step - loss: 7.7167e-06\n",
            "Epoch 44/50\n",
            "32238/32238 - 47s - 1ms/step - loss: 7.7148e-06\n",
            "Epoch 45/50\n",
            "32238/32238 - 82s - 3ms/step - loss: 7.7129e-06\n",
            "Epoch 46/50\n",
            "32238/32238 - 46s - 1ms/step - loss: 7.7104e-06\n",
            "Epoch 47/50\n",
            "32238/32238 - 46s - 1ms/step - loss: 7.7104e-06\n",
            "Epoch 48/50\n",
            "32238/32238 - 82s - 3ms/step - loss: 7.7086e-06\n",
            "Epoch 49/50\n",
            "32238/32238 - 46s - 1ms/step - loss: 7.7068e-06\n",
            "Epoch 50/50\n",
            "32238/32238 - 60s - 2ms/step - loss: 7.7051e-06\n"
          ]
        },
        {
          "output_type": "execute_result",
          "data": {
            "text/plain": [
              "<keras.src.callbacks.history.History at 0x7e6ecc2a9c30>"
            ]
          },
          "metadata": {},
          "execution_count": 59
        }
      ]
    },
    {
      "cell_type": "markdown",
      "source": [
        "## Make preductuion and evaluatuin matrix."
      ],
      "metadata": {
        "id": "NwP_TpFfL7nA"
      }
    },
    {
      "cell_type": "code",
      "source": [
        "# make predictions\n",
        "trainPredict = model.predict(trainX)\n",
        "testPredict = model.predict(testX)\n",
        "# invert predictions\n",
        "trainPredict = scaler.inverse_transform(trainPredict)\n",
        "trainY = scaler.inverse_transform([trainY])\n",
        "testPredict = scaler.inverse_transform(testPredict)\n",
        "testY = scaler.inverse_transform([testY])\n",
        "# calculate root mean squared error\n",
        "trainScore = np.sqrt(mean_squared_error(trainY[0], trainPredict[:,0]))\n",
        "print('Train Score: %.2f RMSE' % (trainScore))\n",
        "testScore = np.sqrt(mean_squared_error(testY[0], testPredict[:,0]))\n",
        "print('Test Score: %.2f RMSE' % (testScore))"
      ],
      "metadata": {
        "id": "4lEgbNGULrbv",
        "colab": {
          "base_uri": "https://localhost:8080/"
        },
        "outputId": "51c568dd-dcaa-4e13-a16e-9cb771c9269c"
      },
      "execution_count": 60,
      "outputs": [
        {
          "output_type": "stream",
          "name": "stdout",
          "text": [
            "\u001b[1m1008/1008\u001b[0m \u001b[32m━━━━━━━━━━━━━━━━━━━━\u001b[0m\u001b[37m\u001b[0m \u001b[1m2s\u001b[0m 2ms/step\n",
            "\u001b[1m497/497\u001b[0m \u001b[32m━━━━━━━━━━━━━━━━━━━━\u001b[0m\u001b[37m\u001b[0m \u001b[1m1s\u001b[0m 2ms/step\n",
            "Train Score: 0.01 RMSE\n",
            "Test Score: 0.12 RMSE\n"
          ]
        }
      ]
    },
    {
      "cell_type": "markdown",
      "source": [
        "## Visualize the result"
      ],
      "metadata": {
        "id": "ZpkMef5uMULa"
      }
    },
    {
      "cell_type": "code",
      "source": [
        "# shift train predictions for plotting\n",
        "trainPredictPlot = np.empty_like(dataset)\n",
        "trainPredictPlot[:, :] = np.nan\n",
        "trainPredictPlot[look_back:len(trainPredict)+look_back, :] = trainPredict\n",
        "# shift test predictions for plotting\n",
        "testPredictPlot = np.empty_like(dataset)\n",
        "testPredictPlot[:, :] = np.nan\n",
        "testPredictPlot[len(trainPredict)+(look_back*2)+1:len(dataset)-1, :] = testPredict\n",
        "# plot baseline and predictions\n",
        "plt.plot(scaler.inverse_transform(dataset))\n",
        "plt.plot(trainPredictPlot)\n",
        "plt.plot(testPredictPlot)\n",
        "plt.show()"
      ],
      "metadata": {
        "id": "B1T1VicEMXC_",
        "colab": {
          "base_uri": "https://localhost:8080/",
          "height": 430
        },
        "outputId": "a09e5a1a-3ff5-4f3e-e6a5-a054b3dcbb91"
      },
      "execution_count": 61,
      "outputs": [
        {
          "output_type": "display_data",
          "data": {
            "text/plain": [
              "<Figure size 640x480 with 1 Axes>"
            ],
            "image/png": "[encoded data removed]"
          },
          "metadata": {}
        }
      ]
    },
    {
      "cell_type": "markdown",
      "source": [
        "# **Well done** :)"
      ],
      "metadata": {
        "id": "_80frLg-MENd"
      }
    }
  ]
}